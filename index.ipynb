{
 "cells": [
  {
   "cell_type": "markdown",
   "metadata": {},
   "source": [
    "# Website A/B Testing - Lab\n",
    "\n",
    "## Introduction\n",
    "\n",
    "In this lab, you'll get another chance to practice your skills at conducting a full A/B test analysis. It will also be a chance to practice your data exploration and processing skills! The scenario you'll be investigating is data collected from the homepage of a music app page for audacity.\n",
    "\n",
    "## Objectives\n",
    "\n",
    "You will be able to:\n",
    "* Analyze the data from a website A/B test to draw relevant conclusions\n",
    "* Explore and analyze web action data"
   ]
  },
  {
   "cell_type": "markdown",
   "metadata": {},
   "source": [
    "## Exploratory Analysis\n",
    "\n",
    "Start by loading in the dataset stored in the file 'homepage_actions.csv'. Then conduct an exploratory analysis to get familiar with the data."
   ]
  },
  {
   "cell_type": "markdown",
   "metadata": {},
   "source": [
    "> Hints:\n",
    "    * Start investigating the id column:\n",
    "        * How many viewers also clicked?\n",
    "        * Are there any anomalies with the data; did anyone click who didn't view?\n",
    "        * Is there any overlap between the control and experiment groups? \n",
    "            * If so, how do you plan to account for this in your experimental design?"
   ]
  },
  {
   "cell_type": "code",
   "execution_count": 1,
   "metadata": {},
   "outputs": [],
   "source": [
    "#Your code here\n",
    "import pandas as pd\n",
    "import numpy as np\n",
    "import matplotlib.pyplot as plt\n",
    "import seaborn as sns\n",
    "%matplotlib inline"
   ]
  },
  {
   "cell_type": "code",
   "execution_count": 2,
   "metadata": {},
   "outputs": [
    {
     "data": {
      "text/html": [
       "<div>\n",
       "<style scoped>\n",
       "    .dataframe tbody tr th:only-of-type {\n",
       "        vertical-align: middle;\n",
       "    }\n",
       "\n",
       "    .dataframe tbody tr th {\n",
       "        vertical-align: top;\n",
       "    }\n",
       "\n",
       "    .dataframe thead th {\n",
       "        text-align: right;\n",
       "    }\n",
       "</style>\n",
       "<table border=\"1\" class=\"dataframe\">\n",
       "  <thead>\n",
       "    <tr style=\"text-align: right;\">\n",
       "      <th></th>\n",
       "      <th>timestamp</th>\n",
       "      <th>id</th>\n",
       "      <th>group</th>\n",
       "      <th>action</th>\n",
       "    </tr>\n",
       "  </thead>\n",
       "  <tbody>\n",
       "    <tr>\n",
       "      <th>0</th>\n",
       "      <td>2016-09-24 17:42:27.839496</td>\n",
       "      <td>804196</td>\n",
       "      <td>experiment</td>\n",
       "      <td>view</td>\n",
       "    </tr>\n",
       "    <tr>\n",
       "      <th>1</th>\n",
       "      <td>2016-09-24 19:19:03.542569</td>\n",
       "      <td>434745</td>\n",
       "      <td>experiment</td>\n",
       "      <td>view</td>\n",
       "    </tr>\n",
       "    <tr>\n",
       "      <th>2</th>\n",
       "      <td>2016-09-24 19:36:00.944135</td>\n",
       "      <td>507599</td>\n",
       "      <td>experiment</td>\n",
       "      <td>view</td>\n",
       "    </tr>\n",
       "    <tr>\n",
       "      <th>3</th>\n",
       "      <td>2016-09-24 19:59:02.646620</td>\n",
       "      <td>671993</td>\n",
       "      <td>control</td>\n",
       "      <td>view</td>\n",
       "    </tr>\n",
       "    <tr>\n",
       "      <th>4</th>\n",
       "      <td>2016-09-24 20:26:14.466886</td>\n",
       "      <td>536734</td>\n",
       "      <td>experiment</td>\n",
       "      <td>view</td>\n",
       "    </tr>\n",
       "  </tbody>\n",
       "</table>\n",
       "</div>"
      ],
      "text/plain": [
       "                    timestamp      id       group action\n",
       "0  2016-09-24 17:42:27.839496  804196  experiment   view\n",
       "1  2016-09-24 19:19:03.542569  434745  experiment   view\n",
       "2  2016-09-24 19:36:00.944135  507599  experiment   view\n",
       "3  2016-09-24 19:59:02.646620  671993     control   view\n",
       "4  2016-09-24 20:26:14.466886  536734  experiment   view"
      ]
     },
     "execution_count": 2,
     "metadata": {},
     "output_type": "execute_result"
    }
   ],
   "source": [
    "data = pd.DataFrame(pd.read_csv(\"homepage_actions.csv\"))\n",
    "data.head()"
   ]
  },
  {
   "cell_type": "code",
   "execution_count": 3,
   "metadata": {},
   "outputs": [
    {
     "name": "stdout",
     "output_type": "stream",
     "text": [
      "<class 'pandas.core.frame.DataFrame'>\n",
      "RangeIndex: 8188 entries, 0 to 8187\n",
      "Data columns (total 4 columns):\n",
      " #   Column     Non-Null Count  Dtype \n",
      "---  ------     --------------  ----- \n",
      " 0   timestamp  8188 non-null   object\n",
      " 1   id         8188 non-null   int64 \n",
      " 2   group      8188 non-null   object\n",
      " 3   action     8188 non-null   object\n",
      "dtypes: int64(1), object(3)\n",
      "memory usage: 256.0+ KB\n"
     ]
    }
   ],
   "source": [
    "data.info()\n",
    "#number of entries and data typed in columns"
   ]
  },
  {
   "cell_type": "code",
   "execution_count": 4,
   "metadata": {},
   "outputs": [
    {
     "data": {
      "text/plain": [
       "id\n",
       "937217    2\n",
       "575502    2\n",
       "583751    2\n",
       "583515    2\n",
       "583153    2\n",
       "         ..\n",
       "568845    1\n",
       "568937    1\n",
       "568992    1\n",
       "569142    1\n",
       "182988    1\n",
       "Length: 6328, dtype: int64"
      ]
     },
     "execution_count": 4,
     "metadata": {},
     "output_type": "execute_result"
    }
   ],
   "source": [
    "data.value_counts(\"id\")\n",
    "#number of unique id's = 6328"
   ]
  },
  {
   "cell_type": "code",
   "execution_count": 5,
   "metadata": {},
   "outputs": [
    {
     "data": {
      "text/plain": [
       "2996"
      ]
     },
     "execution_count": 5,
     "metadata": {},
     "output_type": "execute_result"
    }
   ],
   "source": [
    "exp_pple = data.loc[data['group'] == \"experiment\"]\n",
    "len(exp_pple.value_counts(\"id\"))\n",
    "# number of in experimental group"
   ]
  },
  {
   "cell_type": "code",
   "execution_count": 6,
   "metadata": {},
   "outputs": [
    {
     "data": {
      "text/plain": [
       "928"
      ]
     },
     "execution_count": 6,
     "metadata": {},
     "output_type": "execute_result"
    }
   ],
   "source": [
    "exp_click = exp_pple.loc[exp_pple[\"action\"] == \"click\"]\n",
    "len(exp_click.value_counts(\"id\"))\n",
    "#number experimental clickers\n"
   ]
  },
  {
   "cell_type": "code",
   "execution_count": 7,
   "metadata": {},
   "outputs": [],
   "source": [
    "exp_viewers = exp_pple.loc[exp_pple[\"action\"] != \"click\"]\n",
    "#everyone in the experimental group who clicked viewed"
   ]
  },
  {
   "cell_type": "code",
   "execution_count": 8,
   "metadata": {},
   "outputs": [
    {
     "data": {
      "text/html": [
       "<div>\n",
       "<style scoped>\n",
       "    .dataframe tbody tr th:only-of-type {\n",
       "        vertical-align: middle;\n",
       "    }\n",
       "\n",
       "    .dataframe tbody tr th {\n",
       "        vertical-align: top;\n",
       "    }\n",
       "\n",
       "    .dataframe thead th {\n",
       "        text-align: right;\n",
       "    }\n",
       "</style>\n",
       "<table border=\"1\" class=\"dataframe\">\n",
       "  <thead>\n",
       "    <tr style=\"text-align: right;\">\n",
       "      <th></th>\n",
       "      <th>timestamp</th>\n",
       "      <th>id</th>\n",
       "      <th>group</th>\n",
       "      <th>action</th>\n",
       "    </tr>\n",
       "  </thead>\n",
       "  <tbody>\n",
       "    <tr>\n",
       "      <th>0</th>\n",
       "      <td>2016-09-24 17:42:27.839496</td>\n",
       "      <td>804196</td>\n",
       "      <td>experiment</td>\n",
       "      <td>view</td>\n",
       "    </tr>\n",
       "    <tr>\n",
       "      <th>1</th>\n",
       "      <td>2016-09-24 19:19:03.542569</td>\n",
       "      <td>434745</td>\n",
       "      <td>experiment</td>\n",
       "      <td>view</td>\n",
       "    </tr>\n",
       "    <tr>\n",
       "      <th>2</th>\n",
       "      <td>2016-09-24 19:36:00.944135</td>\n",
       "      <td>507599</td>\n",
       "      <td>experiment</td>\n",
       "      <td>view</td>\n",
       "    </tr>\n",
       "    <tr>\n",
       "      <th>4</th>\n",
       "      <td>2016-09-24 20:26:14.466886</td>\n",
       "      <td>536734</td>\n",
       "      <td>experiment</td>\n",
       "      <td>view</td>\n",
       "    </tr>\n",
       "    <tr>\n",
       "      <th>5</th>\n",
       "      <td>2016-09-24 20:32:25.712659</td>\n",
       "      <td>681598</td>\n",
       "      <td>experiment</td>\n",
       "      <td>view</td>\n",
       "    </tr>\n",
       "    <tr>\n",
       "      <th>...</th>\n",
       "      <td>...</td>\n",
       "      <td>...</td>\n",
       "      <td>...</td>\n",
       "      <td>...</td>\n",
       "    </tr>\n",
       "    <tr>\n",
       "      <th>8176</th>\n",
       "      <td>2017-01-18 07:07:50.090346</td>\n",
       "      <td>540466</td>\n",
       "      <td>experiment</td>\n",
       "      <td>view</td>\n",
       "    </tr>\n",
       "    <tr>\n",
       "      <th>8179</th>\n",
       "      <td>2017-01-18 08:53:50.910310</td>\n",
       "      <td>615849</td>\n",
       "      <td>experiment</td>\n",
       "      <td>view</td>\n",
       "    </tr>\n",
       "    <tr>\n",
       "      <th>8183</th>\n",
       "      <td>2017-01-18 09:11:41.984113</td>\n",
       "      <td>192060</td>\n",
       "      <td>experiment</td>\n",
       "      <td>view</td>\n",
       "    </tr>\n",
       "    <tr>\n",
       "      <th>8184</th>\n",
       "      <td>2017-01-18 09:42:12.844575</td>\n",
       "      <td>755912</td>\n",
       "      <td>experiment</td>\n",
       "      <td>view</td>\n",
       "    </tr>\n",
       "    <tr>\n",
       "      <th>8185</th>\n",
       "      <td>2017-01-18 10:01:09.026482</td>\n",
       "      <td>458115</td>\n",
       "      <td>experiment</td>\n",
       "      <td>view</td>\n",
       "    </tr>\n",
       "  </tbody>\n",
       "</table>\n",
       "<p>2996 rows × 4 columns</p>\n",
       "</div>"
      ],
      "text/plain": [
       "                       timestamp      id       group action\n",
       "0     2016-09-24 17:42:27.839496  804196  experiment   view\n",
       "1     2016-09-24 19:19:03.542569  434745  experiment   view\n",
       "2     2016-09-24 19:36:00.944135  507599  experiment   view\n",
       "4     2016-09-24 20:26:14.466886  536734  experiment   view\n",
       "5     2016-09-24 20:32:25.712659  681598  experiment   view\n",
       "...                          ...     ...         ...    ...\n",
       "8176  2017-01-18 07:07:50.090346  540466  experiment   view\n",
       "8179  2017-01-18 08:53:50.910310  615849  experiment   view\n",
       "8183  2017-01-18 09:11:41.984113  192060  experiment   view\n",
       "8184  2017-01-18 09:42:12.844575  755912  experiment   view\n",
       "8185  2017-01-18 10:01:09.026482  458115  experiment   view\n",
       "\n",
       "[2996 rows x 4 columns]"
      ]
     },
     "execution_count": 8,
     "metadata": {},
     "output_type": "execute_result"
    }
   ],
   "source": [
    "exp_viewers"
   ]
  },
  {
   "cell_type": "code",
   "execution_count": 9,
   "metadata": {},
   "outputs": [],
   "source": [
    "exp_click_id = exp_click[\"id\"].unique()\n",
    "#experimental click ids"
   ]
  },
  {
   "cell_type": "code",
   "execution_count": 10,
   "metadata": {},
   "outputs": [
    {
     "data": {
      "text/plain": [
       "array([349125, 601714, 487634, 468601, 555973, 444902, 269335, 596892,\n",
       "       653403, 922848, 283438, 370483, 826660, 246990, 832871, 839729,\n",
       "       332165, 691753, 226057, 852585, 366151, 835449, 408715, 489523,\n",
       "       349239, 828266, 825953, 786605, 420863, 755354, 619230, 838042,\n",
       "       378232, 638030, 539338, 251716, 649807, 884709, 615186, 559646,\n",
       "       700205, 619415, 645349, 432416, 696656, 297965, 430193, 399915,\n",
       "       918596, 826501, 737683, 395723, 578003, 419220, 687985, 655266,\n",
       "       206558, 279949, 559647, 424505, 766624, 378476, 825944, 335999,\n",
       "       292135, 311308, 883141, 768170, 565462, 897647, 261705, 676381,\n",
       "       832343, 831394, 246836, 305577, 411360, 183938, 520428, 215711,\n",
       "       629121, 324368, 913773, 330972, 594134, 654566, 914320, 901121,\n",
       "       355128, 843456, 451893, 191118, 925767, 432786, 603861, 712674,\n",
       "       540722, 838743, 582967, 247961, 589699, 292642, 303720, 804645,\n",
       "       360932, 714267, 288313, 541646, 277266, 414354, 314594, 277682,\n",
       "       603030, 640924, 213516, 626389, 499639, 582033, 846019, 191688,\n",
       "       536253, 608398, 205023, 647995, 638355, 625137, 880658, 451588,\n",
       "       881992, 929043, 209934, 925193, 668378, 473047, 712472, 837797,\n",
       "       911865, 889073, 683948, 606163, 768242, 238113, 746142, 315236,\n",
       "       798035, 207612, 608715, 702995, 205853, 855908, 769105, 626808,\n",
       "       296298, 532513, 367204, 810111, 537503, 678919, 632547, 625797,\n",
       "       655924, 402978, 205897, 318849, 752464, 498550, 652319, 878755,\n",
       "       928377, 761973, 242574, 820496, 514586, 807248, 226812, 204792,\n",
       "       794838, 285489, 787632, 497914, 852520, 530057, 335803, 532734,\n",
       "       758856, 431850, 269844, 749316, 517704, 373073, 235619, 588741,\n",
       "       832195, 668344, 630342, 762439, 906503, 716741, 812423, 574717,\n",
       "       542732, 508060, 715493, 373612, 279027, 706244, 926105, 526482,\n",
       "       925387, 621743, 353494, 318786, 897684, 184441, 697792, 544437,\n",
       "       581393, 366439, 336874, 452333, 345138, 245830, 893500, 918794,\n",
       "       660329, 656904, 865288, 473078, 435243, 742418, 738820, 452157,\n",
       "       198896, 825834, 191355, 516754, 904600, 684489, 269887, 487887,\n",
       "       714589, 639558, 496398, 456648, 726679, 797425, 911024, 350610,\n",
       "       788433, 799646, 843094, 401932, 642310, 628963, 805186, 317276,\n",
       "       376641, 930618, 446758, 805835, 192320, 347460, 911951, 199540,\n",
       "       671658, 307274, 673411, 716091, 333922, 288246, 781904, 323922,\n",
       "       384816, 551144, 774776, 634713, 495984, 489984, 376021, 801278,\n",
       "       412317, 335563, 788747, 446305, 266730, 556352, 458418, 465358,\n",
       "       835521, 715671, 503459, 285562, 226935, 286428, 391475, 341356,\n",
       "       394610, 708880, 527948, 821832, 513870, 762365, 848426, 459363,\n",
       "       425818, 920069, 836790, 928876, 871471, 447796, 719574, 208883,\n",
       "       793701, 804420, 351218, 337089, 661880, 630736, 644622, 295616,\n",
       "       264704, 633337, 779555, 818545, 760251, 490550, 538330, 450999,\n",
       "       206206, 525391, 889199, 425333, 929655, 601416, 251493, 319153,\n",
       "       567467, 211527, 471550, 523144, 913919, 504568, 562099, 296775,\n",
       "       619349, 712428, 445637, 486553, 767363, 548902, 358862, 374628,\n",
       "       334785, 463578, 745970, 540210, 381388, 798082, 492979, 864486,\n",
       "       823675, 315526, 699345, 818026, 263258, 334402, 346681, 745288,\n",
       "       597870, 684561, 283397, 560020, 780976, 597905, 792881, 233701,\n",
       "       221425, 244336, 864173, 403834, 444108, 804064, 214596, 620004,\n",
       "       627793, 822183, 697015, 361004, 740391, 184654, 244995, 364246,\n",
       "       448611, 379331, 733543, 465576, 813657, 272476, 752277, 878905,\n",
       "       906870, 825849, 196367, 215913, 913220, 679394, 575505, 666481,\n",
       "       647696, 446595, 438444, 916628, 779429, 298126, 746615, 274741,\n",
       "       372892, 596109, 562051, 491729, 456597, 604525, 562905, 681481,\n",
       "       805875, 280760, 719052, 469075, 903594, 348549, 920048, 239356,\n",
       "       650322, 347908, 910611, 514046, 299126, 716108, 477205, 260564,\n",
       "       925547, 392735, 687411, 183141, 248671, 480835, 933480, 345644,\n",
       "       703194, 454074, 743043, 641268, 195631, 537705, 469120, 339175,\n",
       "       436289, 711821, 334293, 525030, 224219, 924294, 647214, 261111,\n",
       "       557099, 731949, 616584, 766704, 821865, 934268, 929454, 205250,\n",
       "       706264, 494030, 798848, 569491, 504493, 812175, 803920, 515193,\n",
       "       491548, 749085, 767668, 752853, 781172, 250065, 590341, 492142,\n",
       "       830584, 635946, 841512, 451445, 583153, 826309, 659372, 924595,\n",
       "       276126, 294827, 325412, 840119, 209052, 796174, 319578, 845024,\n",
       "       426042, 737385, 857144, 262562, 323296, 267521, 259638, 229002,\n",
       "       228627, 658759, 520954, 902927, 340917, 685970, 666439, 220827,\n",
       "       490568, 365888, 588684, 485202, 624959, 674120, 234429, 707752,\n",
       "       413380, 217792, 655572, 841283, 634055, 736705, 577284, 781693,\n",
       "       636726, 248499, 732300, 841724, 837125, 207196, 750053, 418930,\n",
       "       800624, 447843, 672794, 663087, 505175, 680916, 716448, 413142,\n",
       "       540180, 278964, 281412, 620076, 766743, 408733, 490669, 896827,\n",
       "       318153, 610346, 542366, 580280, 338717, 503822, 605989, 203215,\n",
       "       804026, 656782, 400039, 670014, 494358, 457769, 436650, 506185,\n",
       "       356143, 777733, 303750, 871872, 918853, 520842, 766212, 934787,\n",
       "       729442, 879562, 737348, 746603, 834627, 326153, 585882, 910483,\n",
       "       609340, 775717, 781279, 937139, 531050, 281739, 671267, 513061,\n",
       "       447462, 295304, 865639, 303753, 571626, 725514, 736704, 919000,\n",
       "       240509, 568156, 777016, 328542, 629241, 850765, 575856, 852772,\n",
       "       720426, 662020, 223463, 374948, 751618, 356658, 471511, 550309,\n",
       "       418454, 752627, 392260, 316339, 719557, 815490, 288567, 783383,\n",
       "       898122, 565738, 597110, 283406, 275737, 885711, 320306, 583751,\n",
       "       602415, 633430, 613951, 807008, 899555, 811763, 785014, 506406,\n",
       "       342988, 871437, 398078, 192673, 590450, 538497, 641348, 763077,\n",
       "       609119, 555492, 909764, 270926, 917891, 356458, 624139, 878928,\n",
       "       640852, 430383, 780230, 710684, 851453, 833995, 423173, 656561,\n",
       "       292842, 878630, 604441, 682109, 755521, 623217, 837982, 452999,\n",
       "       528147, 546886, 883440, 802218, 492906, 469730, 298869, 797242,\n",
       "       765369, 433024, 846738, 887594, 923941, 705685, 343303, 201505,\n",
       "       288101, 703370, 861514, 704717, 489698, 543949, 864701, 694893,\n",
       "       669959, 523552, 534246, 228665, 662654, 789085, 507942, 609072,\n",
       "       252138, 870570, 404540, 476292, 314887, 882413, 736160, 431044,\n",
       "       607964, 424852, 491810, 194447, 283663, 860314, 300715, 859114,\n",
       "       880273, 695566, 740447, 693425, 574475, 436747, 535273, 314818,\n",
       "       585087, 550233, 593494, 532966, 865923, 581394, 392696, 589899,\n",
       "       839666, 259386, 444428, 253606, 626856, 463211, 427915, 706126,\n",
       "       319332, 727771, 617012, 928146, 784645, 765118, 650749, 258867,\n",
       "       414073, 613885, 896336, 326925, 325698, 236692, 684426, 851352,\n",
       "       799307, 914851, 701333, 933330, 690293, 580812, 517256, 208714,\n",
       "       550329, 548741, 457864, 661294, 371595, 380272, 821321, 718192,\n",
       "       511007, 745329, 462035, 194789, 384340, 323038, 923694, 591014,\n",
       "       335340, 684615, 376229, 428983, 276886, 648080, 867351, 912194,\n",
       "       677814, 484136, 399591, 399109, 687449, 677896, 255764, 253387,\n",
       "       674143, 755169, 789731, 254118, 269338, 897999, 285712, 675535,\n",
       "       343553, 777986, 249471, 339780, 479601, 457492, 388778, 860324,\n",
       "       429125, 434125, 596615, 614351, 217590, 767182, 241872, 888156,\n",
       "       551076, 615294, 226772, 311160, 285722, 418710, 520263, 259680,\n",
       "       247627, 257684, 267099, 264430, 574057, 485081, 742407, 922526,\n",
       "       629353, 369511, 834105, 798801, 798722, 735922, 495381, 307601,\n",
       "       797475, 610630, 549328, 882345, 442700, 548576, 590464, 368962,\n",
       "       291960, 648158, 815117, 869163, 590004, 253483, 364622, 682133,\n",
       "       675420, 645150, 899532, 545293, 797346, 693530, 249762, 291347,\n",
       "       877598, 796512, 758078, 501233, 910053, 260086, 935742, 670959,\n",
       "       202565, 402146, 911092, 657801, 872433, 523025, 419333, 385492,\n",
       "       433237, 556424, 726805, 771872, 417434, 592433, 625999, 919244,\n",
       "       793357, 586622, 866059, 816013, 314453, 440137, 431184, 417740,\n",
       "       360101, 698172, 463584, 780279, 267809, 188580, 524185, 389759,\n",
       "       813720, 442421, 771102, 891635, 865656, 413359, 344770, 615849])"
      ]
     },
     "execution_count": 10,
     "metadata": {},
     "output_type": "execute_result"
    }
   ],
   "source": [
    "exp_click_id"
   ]
  },
  {
   "cell_type": "code",
   "execution_count": 11,
   "metadata": {},
   "outputs": [
    {
     "data": {
      "text/plain": [
       "2068"
      ]
     },
     "execution_count": 11,
     "metadata": {},
     "output_type": "execute_result"
    }
   ],
   "source": [
    "exp_non_click = set(exp_viewers[\"id\"]).difference(set(exp_click[\"id\"]))\n",
    "len(exp_non_click)\n",
    "#number of experimental viewers who did not click"
   ]
  },
  {
   "cell_type": "code",
   "execution_count": 12,
   "metadata": {},
   "outputs": [
    {
     "data": {
      "text/plain": [
       "3332"
      ]
     },
     "execution_count": 12,
     "metadata": {},
     "output_type": "execute_result"
    }
   ],
   "source": [
    "ctrl_pple = data.loc[data['group'] == \"control\"]\n",
    "len(ctrl_pple.value_counts(\"id\"))\n",
    "# number of in control group"
   ]
  },
  {
   "cell_type": "code",
   "execution_count": 13,
   "metadata": {},
   "outputs": [
    {
     "data": {
      "text/plain": [
       "932"
      ]
     },
     "execution_count": 13,
     "metadata": {},
     "output_type": "execute_result"
    }
   ],
   "source": [
    "ctrl_click = ctrl_pple.loc[ctrl_pple[\"action\"] == \"click\"]\n",
    "len(ctrl_click.value_counts(\"id\"))\n",
    "#number control clickers\n"
   ]
  },
  {
   "cell_type": "code",
   "execution_count": 14,
   "metadata": {},
   "outputs": [
    {
     "data": {
      "text/plain": [
       "3332"
      ]
     },
     "execution_count": 14,
     "metadata": {},
     "output_type": "execute_result"
    }
   ],
   "source": [
    "# len(ctrl_pple.loc[ctrl_pple[\"action\"] != \"click\"])\n",
    "ctrl_viewers = ctrl_pple.loc[ctrl_pple[\"action\"] != \"click\"]\n",
    "len(ctrl_viewers)\n",
    "#everyone in the control group who clicked viewed"
   ]
  },
  {
   "cell_type": "code",
   "execution_count": 15,
   "metadata": {},
   "outputs": [],
   "source": [
    "ctrl_click_id = ctrl_click[\"id\"].unique()\n",
    "#control click ids"
   ]
  },
  {
   "cell_type": "code",
   "execution_count": 16,
   "metadata": {},
   "outputs": [
    {
     "data": {
      "text/plain": [
       "2400"
      ]
     },
     "execution_count": 16,
     "metadata": {},
     "output_type": "execute_result"
    }
   ],
   "source": [
    "ctrl_non_click = set(ctrl_viewers[\"id\"]).difference(set(ctrl_click[\"id\"]))\n",
    "len(ctrl_non_click)\n",
    "#number of experimental viewers who did not click"
   ]
  },
  {
   "cell_type": "code",
   "execution_count": 17,
   "metadata": {},
   "outputs": [
    {
     "data": {
      "text/plain": [
       "4468"
      ]
     },
     "execution_count": 17,
     "metadata": {},
     "output_type": "execute_result"
    }
   ],
   "source": [
    "tot_viewers_non_click = exp_non_click.union(ctrl_non_click)\n",
    "len(tot_viewers_non_click)"
   ]
  },
  {
   "cell_type": "markdown",
   "metadata": {},
   "source": [
    "## Conduct a Statistical Test\n",
    "\n",
    "Conduct a statistical test to determine whether the experimental homepage was more effective than that of the control group."
   ]
  },
  {
   "cell_type": "code",
   "execution_count": 18,
   "metadata": {},
   "outputs": [],
   "source": [
    "#Create experimental and control daata frames indexed by Id's with binary data on clicking or non clicking"
   ]
  },
  {
   "cell_type": "code",
   "execution_count": 19,
   "metadata": {},
   "outputs": [
    {
     "data": {
      "text/html": [
       "<div>\n",
       "<style scoped>\n",
       "    .dataframe tbody tr th:only-of-type {\n",
       "        vertical-align: middle;\n",
       "    }\n",
       "\n",
       "    .dataframe tbody tr th {\n",
       "        vertical-align: top;\n",
       "    }\n",
       "\n",
       "    .dataframe thead th {\n",
       "        text-align: right;\n",
       "    }\n",
       "</style>\n",
       "<table border=\"1\" class=\"dataframe\">\n",
       "  <thead>\n",
       "    <tr style=\"text-align: right;\">\n",
       "      <th></th>\n",
       "      <th>id</th>\n",
       "    </tr>\n",
       "  </thead>\n",
       "  <tbody>\n",
       "    <tr>\n",
       "      <th>0</th>\n",
       "      <td>804196</td>\n",
       "    </tr>\n",
       "    <tr>\n",
       "      <th>1</th>\n",
       "      <td>434745</td>\n",
       "    </tr>\n",
       "    <tr>\n",
       "      <th>2</th>\n",
       "      <td>507599</td>\n",
       "    </tr>\n",
       "    <tr>\n",
       "      <th>4</th>\n",
       "      <td>536734</td>\n",
       "    </tr>\n",
       "    <tr>\n",
       "      <th>5</th>\n",
       "      <td>681598</td>\n",
       "    </tr>\n",
       "    <tr>\n",
       "      <th>...</th>\n",
       "      <td>...</td>\n",
       "    </tr>\n",
       "    <tr>\n",
       "      <th>8176</th>\n",
       "      <td>540466</td>\n",
       "    </tr>\n",
       "    <tr>\n",
       "      <th>8179</th>\n",
       "      <td>615849</td>\n",
       "    </tr>\n",
       "    <tr>\n",
       "      <th>8183</th>\n",
       "      <td>192060</td>\n",
       "    </tr>\n",
       "    <tr>\n",
       "      <th>8184</th>\n",
       "      <td>755912</td>\n",
       "    </tr>\n",
       "    <tr>\n",
       "      <th>8185</th>\n",
       "      <td>458115</td>\n",
       "    </tr>\n",
       "  </tbody>\n",
       "</table>\n",
       "<p>2996 rows × 1 columns</p>\n",
       "</div>"
      ],
      "text/plain": [
       "          id\n",
       "0     804196\n",
       "1     434745\n",
       "2     507599\n",
       "4     536734\n",
       "5     681598\n",
       "...      ...\n",
       "8176  540466\n",
       "8179  615849\n",
       "8183  192060\n",
       "8184  755912\n",
       "8185  458115\n",
       "\n",
       "[2996 rows x 1 columns]"
      ]
     },
     "execution_count": 19,
     "metadata": {},
     "output_type": "execute_result"
    }
   ],
   "source": [
    "#Your code here\n",
    "\n",
    "exp_pple_df = pd.DataFrame(exp_pple[\"id\"].unique(),columns=[\"id\"],index=exp_viewers.index)\n",
    "exp_pple_df"
   ]
  },
  {
   "cell_type": "code",
   "execution_count": 40,
   "metadata": {},
   "outputs": [],
   "source": [
    "exp_pple_df[\"view\"] = 1\n",
    "exp_pple_df[\"click\"] = (exp_pple[\"action\"].replace({\"click\":1,\"view\":0}))\n",
    "exp_pple_df[\"no_click\"]= (exp_pple_df[\"view\"])-(exp_pple_df[\"click\"])\n",
    "#creating binary columns"
   ]
  },
  {
   "cell_type": "code",
   "execution_count": 21,
   "metadata": {},
   "outputs": [],
   "source": [
    "#exp_pple_df = exp_pple_df.set_index(\"id\")"
   ]
  },
  {
   "cell_type": "code",
   "execution_count": 37,
   "metadata": {},
   "outputs": [
    {
     "data": {
      "text/html": [
       "<div>\n",
       "<style scoped>\n",
       "    .dataframe tbody tr th:only-of-type {\n",
       "        vertical-align: middle;\n",
       "    }\n",
       "\n",
       "    .dataframe tbody tr th {\n",
       "        vertical-align: top;\n",
       "    }\n",
       "\n",
       "    .dataframe thead th {\n",
       "        text-align: right;\n",
       "    }\n",
       "</style>\n",
       "<table border=\"1\" class=\"dataframe\">\n",
       "  <thead>\n",
       "    <tr style=\"text-align: right;\">\n",
       "      <th></th>\n",
       "      <th>id</th>\n",
       "      <th>view</th>\n",
       "      <th>click</th>\n",
       "      <th>no_click</th>\n",
       "    </tr>\n",
       "  </thead>\n",
       "  <tbody>\n",
       "    <tr>\n",
       "      <th>0</th>\n",
       "      <td>804196</td>\n",
       "      <td>1</td>\n",
       "      <td>0</td>\n",
       "      <td>1</td>\n",
       "    </tr>\n",
       "    <tr>\n",
       "      <th>1</th>\n",
       "      <td>434745</td>\n",
       "      <td>1</td>\n",
       "      <td>0</td>\n",
       "      <td>1</td>\n",
       "    </tr>\n",
       "    <tr>\n",
       "      <th>2</th>\n",
       "      <td>507599</td>\n",
       "      <td>1</td>\n",
       "      <td>0</td>\n",
       "      <td>1</td>\n",
       "    </tr>\n",
       "    <tr>\n",
       "      <th>4</th>\n",
       "      <td>536734</td>\n",
       "      <td>1</td>\n",
       "      <td>0</td>\n",
       "      <td>1</td>\n",
       "    </tr>\n",
       "    <tr>\n",
       "      <th>5</th>\n",
       "      <td>681598</td>\n",
       "      <td>1</td>\n",
       "      <td>0</td>\n",
       "      <td>1</td>\n",
       "    </tr>\n",
       "    <tr>\n",
       "      <th>...</th>\n",
       "      <td>...</td>\n",
       "      <td>...</td>\n",
       "      <td>...</td>\n",
       "      <td>...</td>\n",
       "    </tr>\n",
       "    <tr>\n",
       "      <th>8176</th>\n",
       "      <td>540466</td>\n",
       "      <td>1</td>\n",
       "      <td>0</td>\n",
       "      <td>1</td>\n",
       "    </tr>\n",
       "    <tr>\n",
       "      <th>8179</th>\n",
       "      <td>615849</td>\n",
       "      <td>1</td>\n",
       "      <td>0</td>\n",
       "      <td>1</td>\n",
       "    </tr>\n",
       "    <tr>\n",
       "      <th>8183</th>\n",
       "      <td>192060</td>\n",
       "      <td>1</td>\n",
       "      <td>0</td>\n",
       "      <td>1</td>\n",
       "    </tr>\n",
       "    <tr>\n",
       "      <th>8184</th>\n",
       "      <td>755912</td>\n",
       "      <td>1</td>\n",
       "      <td>0</td>\n",
       "      <td>1</td>\n",
       "    </tr>\n",
       "    <tr>\n",
       "      <th>8185</th>\n",
       "      <td>458115</td>\n",
       "      <td>1</td>\n",
       "      <td>0</td>\n",
       "      <td>1</td>\n",
       "    </tr>\n",
       "  </tbody>\n",
       "</table>\n",
       "<p>2996 rows × 4 columns</p>\n",
       "</div>"
      ],
      "text/plain": [
       "          id  view  click  no_click\n",
       "0     804196     1      0         1\n",
       "1     434745     1      0         1\n",
       "2     507599     1      0         1\n",
       "4     536734     1      0         1\n",
       "5     681598     1      0         1\n",
       "...      ...   ...    ...       ...\n",
       "8176  540466     1      0         1\n",
       "8179  615849     1      0         1\n",
       "8183  192060     1      0         1\n",
       "8184  755912     1      0         1\n",
       "8185  458115     1      0         1\n",
       "\n",
       "[2996 rows x 4 columns]"
      ]
     },
     "execution_count": 37,
     "metadata": {},
     "output_type": "execute_result"
    }
   ],
   "source": [
    "#exp_pple_df[\"click\"] = exp_pple[\"action\"].replace({\"click\":True,\"view\":False}).astype(int)\n",
    "exp_pple_df"
   ]
  },
  {
   "cell_type": "code",
   "execution_count": 38,
   "metadata": {},
   "outputs": [
    {
     "data": {
      "text/plain": [
       "0    2996\n",
       "Name: click, dtype: int64"
      ]
     },
     "execution_count": 38,
     "metadata": {},
     "output_type": "execute_result"
    }
   ],
   "source": [
    "exp_pple_df[\"click\"].value_counts()"
   ]
  },
  {
   "cell_type": "code",
   "execution_count": 45,
   "metadata": {},
   "outputs": [
    {
     "data": {
      "text/html": [
       "<div>\n",
       "<style scoped>\n",
       "    .dataframe tbody tr th:only-of-type {\n",
       "        vertical-align: middle;\n",
       "    }\n",
       "\n",
       "    .dataframe tbody tr th {\n",
       "        vertical-align: top;\n",
       "    }\n",
       "\n",
       "    .dataframe thead th {\n",
       "        text-align: right;\n",
       "    }\n",
       "</style>\n",
       "<table border=\"1\" class=\"dataframe\">\n",
       "  <thead>\n",
       "    <tr style=\"text-align: right;\">\n",
       "      <th></th>\n",
       "      <th>timestamp</th>\n",
       "      <th>id</th>\n",
       "      <th>group</th>\n",
       "      <th>action</th>\n",
       "    </tr>\n",
       "  </thead>\n",
       "  <tbody>\n",
       "    <tr>\n",
       "      <th>0</th>\n",
       "      <td>2016-09-24 17:42:27.839496</td>\n",
       "      <td>804196</td>\n",
       "      <td>experiment</td>\n",
       "      <td>view</td>\n",
       "    </tr>\n",
       "    <tr>\n",
       "      <th>0</th>\n",
       "      <td>2016-09-24 17:42:27.839496</td>\n",
       "      <td>804196</td>\n",
       "      <td>experiment</td>\n",
       "      <td>view</td>\n",
       "    </tr>\n",
       "    <tr>\n",
       "      <th>0</th>\n",
       "      <td>2016-09-24 17:42:27.839496</td>\n",
       "      <td>804196</td>\n",
       "      <td>experiment</td>\n",
       "      <td>view</td>\n",
       "    </tr>\n",
       "    <tr>\n",
       "      <th>0</th>\n",
       "      <td>2016-09-24 17:42:27.839496</td>\n",
       "      <td>804196</td>\n",
       "      <td>experiment</td>\n",
       "      <td>view</td>\n",
       "    </tr>\n",
       "    <tr>\n",
       "      <th>0</th>\n",
       "      <td>2016-09-24 17:42:27.839496</td>\n",
       "      <td>804196</td>\n",
       "      <td>experiment</td>\n",
       "      <td>view</td>\n",
       "    </tr>\n",
       "    <tr>\n",
       "      <th>...</th>\n",
       "      <td>...</td>\n",
       "      <td>...</td>\n",
       "      <td>...</td>\n",
       "      <td>...</td>\n",
       "    </tr>\n",
       "    <tr>\n",
       "      <th>0</th>\n",
       "      <td>2016-09-24 17:42:27.839496</td>\n",
       "      <td>804196</td>\n",
       "      <td>experiment</td>\n",
       "      <td>view</td>\n",
       "    </tr>\n",
       "    <tr>\n",
       "      <th>1</th>\n",
       "      <td>2016-09-24 19:19:03.542569</td>\n",
       "      <td>434745</td>\n",
       "      <td>experiment</td>\n",
       "      <td>view</td>\n",
       "    </tr>\n",
       "    <tr>\n",
       "      <th>0</th>\n",
       "      <td>2016-09-24 17:42:27.839496</td>\n",
       "      <td>804196</td>\n",
       "      <td>experiment</td>\n",
       "      <td>view</td>\n",
       "    </tr>\n",
       "    <tr>\n",
       "      <th>0</th>\n",
       "      <td>2016-09-24 17:42:27.839496</td>\n",
       "      <td>804196</td>\n",
       "      <td>experiment</td>\n",
       "      <td>view</td>\n",
       "    </tr>\n",
       "    <tr>\n",
       "      <th>0</th>\n",
       "      <td>2016-09-24 17:42:27.839496</td>\n",
       "      <td>804196</td>\n",
       "      <td>experiment</td>\n",
       "      <td>view</td>\n",
       "    </tr>\n",
       "  </tbody>\n",
       "</table>\n",
       "<p>3924 rows × 4 columns</p>\n",
       "</div>"
      ],
      "text/plain": [
       "                     timestamp      id       group action\n",
       "0   2016-09-24 17:42:27.839496  804196  experiment   view\n",
       "0   2016-09-24 17:42:27.839496  804196  experiment   view\n",
       "0   2016-09-24 17:42:27.839496  804196  experiment   view\n",
       "0   2016-09-24 17:42:27.839496  804196  experiment   view\n",
       "0   2016-09-24 17:42:27.839496  804196  experiment   view\n",
       "..                         ...     ...         ...    ...\n",
       "0   2016-09-24 17:42:27.839496  804196  experiment   view\n",
       "1   2016-09-24 19:19:03.542569  434745  experiment   view\n",
       "0   2016-09-24 17:42:27.839496  804196  experiment   view\n",
       "0   2016-09-24 17:42:27.839496  804196  experiment   view\n",
       "0   2016-09-24 17:42:27.839496  804196  experiment   view\n",
       "\n",
       "[3924 rows x 4 columns]"
      ]
     },
     "execution_count": 45,
     "metadata": {},
     "output_type": "execute_result"
    }
   ],
   "source": [
    "(exp_viewers.loc[exp_pple[\"action\"].replace({\"click\":1,\"view\":0})])#.astype(int)#.value_counts()"
   ]
  },
  {
   "cell_type": "code",
   "execution_count": 35,
   "metadata": {},
   "outputs": [
    {
     "data": {
      "text/plain": [
       "0    2996\n",
       "Name: click, dtype: int64"
      ]
     },
     "execution_count": 35,
     "metadata": {},
     "output_type": "execute_result"
    }
   ],
   "source": [
    "exp_pple_df[\"click\"].value_counts()"
   ]
  },
  {
   "cell_type": "code",
   "execution_count": 26,
   "metadata": {},
   "outputs": [],
   "source": [
    "# for i in range(len(exp_pple_df)):\n",
    "#     for j in range(len(exp_click)):\n",
    "#         if exp_pple_df.iloc[i][\"id\"] == exp_click.iloc[j][\"id\"]:\n",
    "#             exp_pple_df.iloc[i][\"click\"].replace(to)\n",
    "# return exp_pple_df[\"click\"]"
   ]
  },
  {
   "cell_type": "code",
   "execution_count": 27,
   "metadata": {},
   "outputs": [],
   "source": [
    "# exp_pple_df[exp_pple_df[\"id\"].isin(exp_click_id).replace(to_replace=exp_pple_df)]"
   ]
  },
  {
   "cell_type": "code",
   "execution_count": 28,
   "metadata": {},
   "outputs": [
    {
     "ename": "ModuleNotFoundError",
     "evalue": "No module named 'flatiron_stats'",
     "output_type": "error",
     "traceback": [
      "\u001b[0;31m---------------------------------------------------------------------------\u001b[0m",
      "\u001b[0;31mModuleNotFoundError\u001b[0m                       Traceback (most recent call last)",
      "\u001b[0;32m<ipython-input-28-a9b54c43b1c4>\u001b[0m in \u001b[0;36m<module>\u001b[0;34m\u001b[0m\n\u001b[0;32m----> 1\u001b[0;31m \u001b[0;32mimport\u001b[0m \u001b[0mflatiron_stats\u001b[0m \u001b[0;32mas\u001b[0m \u001b[0mfs\u001b[0m\u001b[0;34m\u001b[0m\u001b[0;34m\u001b[0m\u001b[0m\n\u001b[0m",
      "\u001b[0;31mModuleNotFoundError\u001b[0m: No module named 'flatiron_stats'"
     ]
    }
   ],
   "source": [
    "import flatiron_stats as fs"
   ]
  },
  {
   "cell_type": "markdown",
   "metadata": {},
   "source": [
    "## Verifying Results\n",
    "\n",
    "One sensible formulation of the data to answer the hypothesis test above would be to create a binary variable representing each individual in the experiment and control group. This binary variable would represent whether or not that individual clicked on the homepage; 1 for they did and 0 if they did not. \n",
    "\n",
    "The variance for the number of successes in a sample of a binomial variable with n observations is given by:\n",
    "\n",
    "## $n\\bullet p (1-p)$\n",
    "\n",
    "Given this, perform 3 steps to verify the results of your statistical test:\n",
    "1. Calculate the expected number of clicks for the experiment group, if it had the same click-through rate as that of the control group. \n",
    "2. Calculate the number of standard deviations that the actual number of clicks was from this estimate. \n",
    "3. Finally, calculate a p-value using the normal distribution based on this z-score."
   ]
  },
  {
   "cell_type": "markdown",
   "metadata": {},
   "source": [
    "### Step 1:\n",
    "Calculate the expected number of clicks for the experiment group, if it had the same click-through rate as that of the control group. "
   ]
  },
  {
   "cell_type": "code",
   "execution_count": null,
   "metadata": {},
   "outputs": [],
   "source": [
    "#Your code here"
   ]
  },
  {
   "cell_type": "markdown",
   "metadata": {},
   "source": [
    "### Step 2:\n",
    "Calculate the number of standard deviations that the actual number of clicks was from this estimate."
   ]
  },
  {
   "cell_type": "code",
   "execution_count": null,
   "metadata": {},
   "outputs": [],
   "source": [
    "#Your code here"
   ]
  },
  {
   "cell_type": "markdown",
   "metadata": {},
   "source": [
    "### Step 3: \n",
    "Finally, calculate a p-value using the normal distribution based on this z-score."
   ]
  },
  {
   "cell_type": "code",
   "execution_count": null,
   "metadata": {},
   "outputs": [],
   "source": [
    "#Your code here"
   ]
  },
  {
   "cell_type": "markdown",
   "metadata": {},
   "source": [
    "### Analysis:\n",
    "\n",
    "Does this result roughly match that of the previous statistical test?\n",
    "\n",
    "> Comment: **Your analysis here**"
   ]
  },
  {
   "cell_type": "markdown",
   "metadata": {},
   "source": [
    "## Summary\n",
    "\n",
    "In this lab, you continued to get more practice designing and conducting AB tests. This required additional work preprocessing and formulating the initial problem in a suitable manner. Additionally, you also saw how to verify results, strengthening your knowledge of binomial variables, and reviewing initial statistical concepts of the central limit theorem, standard deviation, z-scores, and their accompanying p-values."
   ]
  }
 ],
 "metadata": {
  "kernelspec": {
   "display_name": "Python (learn-env)",
   "language": "python",
   "name": "learn-env"
  },
  "language_info": {
   "codemirror_mode": {
    "name": "ipython",
    "version": 3
   },
   "file_extension": ".py",
   "mimetype": "text/x-python",
   "name": "python",
   "nbconvert_exporter": "python",
   "pygments_lexer": "ipython3",
   "version": "3.8.5"
  }
 },
 "nbformat": 4,
 "nbformat_minor": 2
}
